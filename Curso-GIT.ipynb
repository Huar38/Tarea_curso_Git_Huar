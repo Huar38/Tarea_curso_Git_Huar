{
  "nbformat": 4,
  "nbformat_minor": 0,
  "metadata": {
    "colab": {
      "provenance": []
    },
    "kernelspec": {
      "name": "python3",
      "display_name": "Python 3"
    },
    "language_info": {
      "name": "python"
    }
  },
  "cells": [
    {
      "cell_type": "code",
      "execution_count": 7,
      "metadata": {
        "colab": {
          "base_uri": "https://localhost:8080/"
        },
        "id": "WwddIcX-298S",
        "outputId": "bb3d5d1b-05b1-43ed-c801-c3117d724cf2"
      },
      "outputs": [
        {
          "output_type": "stream",
          "name": "stdout",
          "text": [
            "vector 1:  [ 4 13 14]\n",
            "vector 2:  [ 8  9 11]\n",
            "None\n"
          ]
        }
      ],
      "source": [
        "import math\n",
        "import numpy as np\n",
        "import random\n",
        "\n",
        "list1 = [random.randint(1, 14) for i in range(3)]\n",
        "list2 = [random.randint(1, 14) for i in range(3)]\n",
        "V1 = np.array(list1)\n",
        "V2 = np.array(list2)\n",
        "print(\"vector 1: \", V1)\n",
        "\n",
        "print(\"vector 2: \", V2)\n",
        "\n",
        "def producto_escalar(v1, v2):\n",
        "\n",
        "    '''\n",
        "    Calculo del producto escalar entre dos vectores\n",
        "\n",
        "    '''\n",
        "\n",
        "    return\n",
        "\n",
        "\n",
        "\n",
        "if __name__ == '__main__':\n",
        "\n",
        "    # 1 # Escribir una función que reciba dos vectores y devuelva su producto escalar.\n",
        "    vector1 = [1, 2, 3]\n",
        "    vector2 = [4, 5, 6]\n",
        "    resultado = producto_escalar(vector1, vector2)\n",
        "    print(resultado)\n"
      ]
    },
    {
      "cell_type": "code",
      "source": [
        "import numpy as np\n",
        "import random\n",
        "\n",
        "list1 = [random.randint(1, 14) for i in range(3)]\n",
        "list2 = [random.randint(1, 14) for i in range(3)]\n",
        "V1 = np.array(list1)\n",
        "V2 = np.array(list2)\n",
        "print(\"vector 1: \", V1)\n",
        "print(\"vector 2: \", V2)\n",
        "\n",
        "def ProductoEscalar (V1, V2):\n",
        "    return np.dot(V1, V2)\n",
        "if __name__ == '__main__':\n",
        "    resultado = ProductoEscalar(V1, V2)\n",
        "    print(resultado)\n",
        "\n"
      ],
      "metadata": {
        "id": "R384icq2XJ5y",
        "outputId": "29a84eaf-b027-4d13-8068-76812bdef79d",
        "colab": {
          "base_uri": "https://localhost:8080/"
        }
      },
      "execution_count": 12,
      "outputs": [
        {
          "output_type": "stream",
          "name": "stdout",
          "text": [
            "vector 1:  [9 3 5]\n",
            "vector 2:  [ 1  2 14]\n",
            "85\n"
          ]
        }
      ]
    }
  ]
}