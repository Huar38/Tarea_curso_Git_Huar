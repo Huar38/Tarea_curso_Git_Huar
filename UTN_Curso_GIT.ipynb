{
  "nbformat": 4,
  "nbformat_minor": 0,
  "metadata": {
    "colab": {
      "provenance": []
    },
    "kernelspec": {
      "name": "python3",
      "display_name": "Python 3"
    },
    "language_info": {
      "name": "python"
    }
  },
  "cells": [
    {
      "cell_type": "markdown",
      "source": [
        "#Ejercicio 1\n",
        "##Aproximación de funciones con polinomio de Taylor y de Mc Laurin:\n",
        "Escribe el código en Python para aproximar funciones con Serie de Taylor, para distintas\n",
        "funciones y distintos órdenes del polinomio.\n",
        "Utilizando el código realizado, verifica los polinomios de Taylor de orden 1, 2 y 3.\n",
        "\n",
        "a) f (x) = √(x + 1) en a = 0\n",
        "\n",
        "b) f (x) = x/(x + 1) en a = 1\n",
        "\n"
      ],
      "metadata": {
        "id": "C3rIGqg_uSWP"
      }
    },
    {
      "cell_type": "code",
      "execution_count": null,
      "metadata": {
        "colab": {
          "base_uri": "https://localhost:8080/"
        },
        "id": "sH9V-Hlqld56",
        "outputId": "add53f3a-f6b8-4a1c-e989-b58466726167"
      },
      "outputs": [
        {
          "output_type": "stream",
          "name": "stdout",
          "text": [
            "Polinomios de Taylor de orden 1, 2 y 3 para f(x) = √(x + 1) en a = 0\n",
            "Orden 1: x/2 + 1\n",
            "Orden 2: -x**2/8 + x/2 + 1\n",
            "Orden 3: x**3/16 - x**2/8 + x/2 + 1\n",
            "Polinomios de Taylor de orden 1, 2 y 3 para f(x) = x/(x + 1) en a = 1\n",
            "Orden 1: x/4 + 1/4\n",
            "Orden 2: x/4 - (x - 1)**2/8 + 1/4\n",
            "Orden 3: x/4 + (x - 1)**3/16 - (x - 1)**2/8 + 1/4\n"
          ]
        }
      ],
      "source": [
        "from sympy import Symbol, diff, sqrt\n",
        "\n",
        "def factorial(n):\n",
        "    if n == 0:\n",
        "        return 1\n",
        "    else:\n",
        "        return n * factorial(n - 1)\n",
        "\n",
        "def taylor(f, a, n):\n",
        "    x = Symbol('x')\n",
        "    p = 0\n",
        "    for i in range(n + 1):\n",
        "        p += f.diff(x, i).subs(x, a) / factorial(i) * (x - a) ** i\n",
        "    return p\n",
        "\n",
        "x = Symbol('x')\n",
        "f1 = sqrt(x + 1)\n",
        "f2 = x / (x + 1)\n",
        "\n",
        "print(\"Polinomios de Taylor de orden 1, 2 y 3 para f(x) = √(x + 1) en a = 0\")\n",
        "for i in range(1, 4):\n",
        "    print(f\"Orden {i}: {taylor(f1, 0, i)}\")\n",
        "\n",
        "print(\"Polinomios de Taylor de orden 1, 2 y 3 para f(x) = x/(x + 1) en a = 1\")\n",
        "for i in range(1, 4):\n",
        "    print(f\"Orden {i}: {taylor(f2, 1, i)}\")\n"
      ]
    },
    {
      "cell_type": "markdown",
      "source": [
        "#Ejercicio 2\n",
        "##Método de Newton (o Newton-Raphson)\n",
        "\n",
        "Escribe el código en Python para para aproximar raíces de una ecuación utilizando el\n",
        "método de Newton, con una precisión de hasta tres posiciones decimales.\n",
        "Use el código escrito para hallar las raíces de las ecuaciones dadas a continuación.\n",
        "\n",
        "a) x^6 − x^5 − 6x^4 − x^3 + x + 10 = 0\n",
        "\n",
        "b) x² · √(2 − x − x² )-1= 0"
      ],
      "metadata": {
        "id": "iuk9JwuFplGf"
      }
    },
    {
      "cell_type": "code",
      "source": [
        "from sympy import *\n",
        "from sympy.abc import x\n",
        "\n",
        "def newton_raphson(f, x0, tol):\n",
        "    f_prime = diff(f)\n",
        "    while True:\n",
        "        x1 = x0 - f.subs(x, x0) / f_prime.subs(x, x0)\n",
        "        if abs(x1 - x0) < tol:\n",
        "            return x1\n",
        "        x0 = x1\n",
        "\n",
        "# Ejemplo a)\n",
        "f = x**6 - x**5 - 6*x**4 - x**3 + x + 10\n",
        "root = newton_raphson(f, 1, 1e-3)\n",
        "# {root:.3f} es una expresión de formato que se utiliza para imprimir el valor de la variable root con una precisión de tres posiciones decimales.\n",
        "print(f'Raíz de la ecuación a): {root:.3f}')\n",
        "\n",
        "# Ejemplo b)\n",
        "f = x**2 * sqrt(2 - x - x**2) - 1\n",
        "root = newton_raphson(f, 1, 1e-3)\n",
        "print(f'Raíz de la ecuación b): {root:.3f}')\n"
      ],
      "metadata": {
        "colab": {
          "base_uri": "https://localhost:8080/"
        },
        "id": "_PtIviFBq1qo",
        "outputId": "24c0f540-a2bc-46eb-b7d2-c029411d4812"
      },
      "execution_count": null,
      "outputs": [
        {
          "output_type": "stream",
          "name": "stdout",
          "text": [
            "Raíz de la ecuación a): 1.134\n",
            "Raíz de la ecuación b): 1.000\n"
          ]
        }
      ]
    }
  ]
}